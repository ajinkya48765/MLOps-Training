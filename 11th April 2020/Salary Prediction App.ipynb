{
 "cells": [
  {
   "cell_type": "code",
   "execution_count": null,
   "metadata": {},
   "outputs": [],
   "source": [
    "from sklearn.externals import joblib\n",
    "salary_model=joblib.load(\"salary_model.pk1\")\n",
    "\n",
    "\n",
    "print(\"\\t\\t\\tWelcome to future tools\")\n",
    "print(\"\\t\\t\\t------------------------\")\n",
    "print()\n",
    "\n",
    "\n",
    "while True:\n",
    "\tprint(\"Press 1: salary predict\")\n",
    "\tprint(\"Press 2: predict new requirement\")\n",
    "\tprint(\"Press 3: cal score for current emp\")\n",
    "\tprint(\"Press 4: classfy score for current emp\")\n",
    "\tprint(\"Press 5: to exit\")\n",
    "\n",
    "\tprint(\"Enter your choice: \" , end='')\n",
    "\tch = input()\n",
    "\n",
    "\n",
    "\tif int(ch) == 1:\n",
    "\t\tprint(\"Enter year Exp : \" , end='')\n",
    "\t\texp = input()\n",
    "\t\texp = float(exp)\n",
    "\t\tprint( \"predicted salary : \" , salary_model.predict([[exp]])[0] )\n",
    "\n",
    "\telif int(ch) == 2:\n",
    "\t\tprint(\"search new requirement\")\n",
    "\n",
    "\telif int(ch) == 3:\n",
    "\t\tprint(\"cal\")\n",
    "\n",
    "\telif int(ch) == 4:\n",
    "\t\tprint(\"cal\")\n",
    "\n",
    "\telif int(ch) == 5:\n",
    "\t\texit()\n",
    "\n",
    "\telse:\n",
    "\t\tprint(\"option not supported\")\n",
    "\n"
   ]
  },
  {
   "cell_type": "code",
   "execution_count": null,
   "metadata": {},
   "outputs": [],
   "source": []
  },
  {
   "cell_type": "code",
   "execution_count": null,
   "metadata": {},
   "outputs": [],
   "source": []
  },
  {
   "cell_type": "code",
   "execution_count": null,
   "metadata": {},
   "outputs": [],
   "source": []
  }
 ],
 "metadata": {
  "kernelspec": {
   "display_name": "Python 3",
   "language": "python",
   "name": "python3"
  },
  "language_info": {
   "codemirror_mode": {
    "name": "ipython",
    "version": 3
   },
   "file_extension": ".py",
   "mimetype": "text/x-python",
   "name": "python",
   "nbconvert_exporter": "python",
   "pygments_lexer": "ipython3",
   "version": "3.7.4"
  }
 },
 "nbformat": 4,
 "nbformat_minor": 2
}
