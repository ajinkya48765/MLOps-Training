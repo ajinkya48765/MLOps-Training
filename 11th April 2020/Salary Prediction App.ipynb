{
 "cells": [
  {
   "cell_type": "markdown",
   "metadata": {},
   "source": [
    "# ML model for salary prediction of employee in company"
   ]
  },
  {
   "cell_type": "code",
   "execution_count": 2,
   "metadata": {},
   "outputs": [
    {
     "name": "stdout",
     "output_type": "stream",
     "text": [
      "\n",
      "\t\t\t Welcome To Prediction World \n",
      "\t\t\t ___________________________\n",
      "\n",
      "\n",
      "\tPress 1 : to predict Salary\n",
      "\tPress 2 : to exit\n",
      "Enter your choice  :  1\n",
      " Enter experience  :  6\n",
      "\n",
      " According to past details I have I think Your salary should be  :   82491\n"
     ]
    }
   ],
   "source": [
    "import joblib\n",
    "\n",
    "mind =  joblib.load('trained_model.pk1')\n",
    "\n",
    "print(\"\\n\\t\\t\\t Welcome To Prediction World \", end=\"\")\n",
    "print(\"\\n\\t\\t\\t ___________________________\")\n",
    "print(\"\\n\\n\\tPress 1 : to predict Salary\")\n",
    "print(\"\\tPress 2 : to exit\")\n",
    "\n",
    "choice = int(input(\"Enter your choice  :  \"))\n",
    "\n",
    "if ( choice == 1 ) :\n",
    "    exp = int( input(\" Enter experience  :  \" ) )\n",
    "    salary = mind.predict([[ exp ]])\n",
    "    print( \"\\n According to past details I have I think Your salary should be  :  \" , int ( salary[0] ) )\n",
    "    \n",
    "elif( choice == 2 ) :\n",
    "    exit()\n",
    "    \n",
    "else :\n",
    "    print(\" Please Enter a valid option . . . \")"
   ]
  },
  {
   "cell_type": "code",
   "execution_count": null,
   "metadata": {},
   "outputs": [],
   "source": []
  }
 ],
 "metadata": {
  "kernelspec": {
   "display_name": "Python 3",
   "language": "python",
   "name": "python3"
  },
  "language_info": {
   "codemirror_mode": {
    "name": "ipython",
    "version": 3
   },
   "file_extension": ".py",
   "mimetype": "text/x-python",
   "name": "python",
   "nbconvert_exporter": "python",
   "pygments_lexer": "ipython3",
   "version": "3.7.4"
  }
 },
 "nbformat": 4,
 "nbformat_minor": 2
}
