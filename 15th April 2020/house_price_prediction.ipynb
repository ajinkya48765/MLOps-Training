{
 "cells": [
  {
   "cell_type": "code",
   "execution_count": 1,
   "metadata": {},
   "outputs": [],
   "source": [
    "import joblib"
   ]
  },
  {
   "cell_type": "code",
   "execution_count": 2,
   "metadata": {},
   "outputs": [],
   "source": [
    "mind = joblib.load('house_price_prediction.pk1')"
   ]
  },
  {
   "cell_type": "code",
   "execution_count": 3,
   "metadata": {},
   "outputs": [
    {
     "name": "stdout",
     "output_type": "stream",
     "text": [
      "\t\t\t WELCOME TO HOUSE PRICE PREDICTOR\n",
      "\t\t\t ________________________________\n",
      "\n",
      "\n",
      "\t (1) Press 1 to predict house price\n",
      "\t (2) Press 2 to exit\n",
      "\n",
      "\n",
      "  Enter your choice here  :  1\n"
     ]
    }
   ],
   "source": [
    "print(\"\\t\\t\\t WELCOME TO HOUSE PRICE PREDICTOR\")\n",
    "print(\"\\t\\t\\t ________________________________\\n\\n\")\n",
    "print(\"\\t (1) Press 1 to predict house price\")\n",
    "print(\"\\t (2) Press 2 to exit\\n\\n\")\n",
    "\n",
    "ch = int(input(\"  Enter your choice here  :  \"))"
   ]
  },
  {
   "cell_type": "code",
   "execution_count": null,
   "metadata": {},
   "outputs": [],
   "source": [
    "Index(['R&D Spend', 'Administration', 'Marketing Spend', 'State_Florida',\n",
    "       'State_New York'],\n",
    "      dtype='object')"
   ]
  }
 ],
 "metadata": {
  "kernelspec": {
   "display_name": "Python 3",
   "language": "python",
   "name": "python3"
  },
  "language_info": {
   "codemirror_mode": {
    "name": "ipython",
    "version": 3
   },
   "file_extension": ".py",
   "mimetype": "text/x-python",
   "name": "python",
   "nbconvert_exporter": "python",
   "pygments_lexer": "ipython3",
   "version": "3.7.4"
  }
 },
 "nbformat": 4,
 "nbformat_minor": 2
}
