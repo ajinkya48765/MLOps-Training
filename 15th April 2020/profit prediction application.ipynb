{
 "cells": [
  {
   "cell_type": "code",
   "execution_count": 1,
   "metadata": {},
   "outputs": [],
   "source": [
    "import joblib\n",
    "from sklearn.linear_model import LinearRegression"
   ]
  },
  {
   "cell_type": "code",
   "execution_count": 2,
   "metadata": {},
   "outputs": [],
   "source": [
    "mind = joblib.load('profit_prediction.pk1')"
   ]
  },
  {
   "cell_type": "code",
   "execution_count": 9,
   "metadata": {},
   "outputs": [
    {
     "ename": "SyntaxError",
     "evalue": "invalid syntax (<ipython-input-9-c7124ac653e8>, line 32)",
     "output_type": "error",
     "traceback": [
      "\u001b[1;36m  File \u001b[1;32m\"<ipython-input-9-c7124ac653e8>\"\u001b[1;36m, line \u001b[1;32m32\u001b[0m\n\u001b[1;33m    else :\u001b[0m\n\u001b[1;37m       ^\u001b[0m\n\u001b[1;31mSyntaxError\u001b[0m\u001b[1;31m:\u001b[0m invalid syntax\n"
     ]
    }
   ],
   "source": [
    "print(\"\\t\\t\\t WELCOME TO PROFIT PREDICTOR\")\n",
    "print(\"\\t\\t\\t ________________________________\\n\\n\")\n",
    "print(\"\\t (1) Press 1 to predict profit\")\n",
    "print(\"\\t (2) Press 2 to exit\\n\\n\")\n",
    "\n",
    "ch = int(input(\"  Enter your choice here  :  \"))\n",
    "\n",
    "if (ch == 1):\n",
    "    rnd = float ( input (\" Enter your R&D expenses  :  \")) \n",
    "    admin = float ( input (\" Enter your Administration expenses  :  \"))\n",
    "    mark = float ( input (\" Enter your Marketing expenses  :  \"))\n",
    "    \n",
    "    print (\"  (1) Florida\")\n",
    "    print (\"  (2) New York\")\n",
    "    print (\"  (3) California\")\n",
    "    ch2 = int ( input (\" Select state  :  \"))\n",
    "    if (ch2 == 1):\n",
    "        fl = 1\n",
    "        ny = 0\n",
    "    elif (ch2 == 2):\n",
    "        fl = 0\n",
    "        ny = 1\n",
    "    elif (ch2 == 3):\n",
    "        fl = 0\n",
    "        ny = 0\n",
    "    else :\n",
    "        print (\"Invalid choice\")\n",
    "     \n",
    "    mind.predict([[rnd,admin,mark,fl,ny]]\n",
    "    print(\"According to data I have and that of you provided, You wil earn profit of  \", mind.predict([[rnd,admin,mark,fl,ny]],\"USD\"))\n",
    "else :\n",
    "    exit()"
   ]
  },
  {
   "cell_type": "code",
   "execution_count": null,
   "metadata": {},
   "outputs": [],
   "source": [
    "Index(['R&D Spend', 'Administration', 'Marketing Spend', 'State_Florida',\n",
    "       'State_New York'],\n",
    "      dtype='object')\n",
    "result = mind.predict([[rnd,admin,mark,fl,ny]]                          \n",
    "    print (\"According to data I have and that of you provided, You wil earn profit of  \", result[0],\"USD\")"
   ]
  }
 ],
 "metadata": {
  "kernelspec": {
   "display_name": "Python 3",
   "language": "python",
   "name": "python3"
  },
  "language_info": {
   "codemirror_mode": {
    "name": "ipython",
    "version": 3
   },
   "file_extension": ".py",
   "mimetype": "text/x-python",
   "name": "python",
   "nbconvert_exporter": "python",
   "pygments_lexer": "ipython3",
   "version": "3.7.4"
  }
 },
 "nbformat": 4,
 "nbformat_minor": 2
}
