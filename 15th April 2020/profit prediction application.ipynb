{
 "cells": [
  {
   "cell_type": "code",
   "execution_count": 1,
   "metadata": {},
   "outputs": [],
   "source": [
    "import joblib\n",
    "from sklearn.linear_model import LinearRegression"
   ]
  },
  {
   "cell_type": "code",
   "execution_count": 2,
   "metadata": {},
   "outputs": [],
   "source": [
    "mind = joblib.load('profit_prediction.pk1')"
   ]
  },
  {
   "cell_type": "code",
   "execution_count": 5,
   "metadata": {},
   "outputs": [
    {
     "name": "stdout",
     "output_type": "stream",
     "text": [
      "\t\t\t WELCOME TO PROFIT PREDICTOR\n",
      "\t\t\t ________________________________\n",
      "\n",
      "\n",
      "\t (1) Press 1 to predict profit\n",
      "\t (2) Press 2 to see accuracy of model\n",
      "\t (3) Press 3 to exit\n",
      "\n",
      "\n",
      "  Enter your choice here  :  1\n",
      " Enter your R&D expenses  :  153441.51\t\n",
      " Enter your Administration expenses  :  101145.55\t\n",
      " Enter your Marketing expenses  :  407934.54\n",
      "  (1) Florida\n",
      "  (2) New York\n",
      "  (3) California\n",
      " Select state  :  1\n",
      "According to data I have and that of you provided, You wil earn profit of   183805 USD\n"
     ]
    }
   ],
   "source": [
    "print(\"\\t\\t\\t WELCOME TO PROFIT PREDICTOR\")\n",
    "print(\"\\t\\t\\t ________________________________\\n\\n\")\n",
    "print(\"\\t (1) Press 1 to predict profit\")\n",
    "print(\"\\t (2) Press 2 to see accuracy of model\")\n",
    "print(\"\\t (3) Press 3 to exit\\n\\n\")\n",
    "\n",
    "ch = int(input(\"  Enter your choice here  :  \"))\n",
    "\n",
    "if (ch == 1):\n",
    "    rnd = float ( input (\" Enter your R&D expenses  :  \")) \n",
    "    admin = float ( input (\" Enter your Administration expenses  :  \"))\n",
    "    mark = float ( input (\" Enter your Marketing expenses  :  \"))\n",
    "    \n",
    "    print (\"  (1) Florida\")\n",
    "    print (\"  (2) New York\")\n",
    "    print (\"  (3) California\")\n",
    "    ch2 = int ( input (\" Select state  :  \"))\n",
    "    if (ch2 == 1):\n",
    "        fl = 1\n",
    "        ny = 0\n",
    "    elif (ch2 == 2):\n",
    "        fl = 0\n",
    "        ny = 1\n",
    "    elif (ch2 == 3):\n",
    "        fl = 0\n",
    "        ny = 0\n",
    "    else :\n",
    "        print (\"Invalid choice\")\n",
    "        \n",
    "    result = mind.predict([[rnd,admin,mark,fl,ny]])\n",
    "    print (\"According to data I have and that of you provided, You wil earn profit of  \", int(result[0]),\"USD\")\n",
    "elif (ch == 2 ):\n",
    "    print(\"\\n\\nThis model is 89.87 % accurate\")    \n",
    "else :\n",
    "    exit()"
   ]
  },
  {
   "cell_type": "code",
   "execution_count": null,
   "metadata": {},
   "outputs": [],
   "source": []
  }
 ],
 "metadata": {
  "kernelspec": {
   "display_name": "Python 3",
   "language": "python",
   "name": "python3"
  },
  "language_info": {
   "codemirror_mode": {
    "name": "ipython",
    "version": 3
   },
   "file_extension": ".py",
   "mimetype": "text/x-python",
   "name": "python",
   "nbconvert_exporter": "python",
   "pygments_lexer": "ipython3",
   "version": "3.7.4"
  }
 },
 "nbformat": 4,
 "nbformat_minor": 2
}
