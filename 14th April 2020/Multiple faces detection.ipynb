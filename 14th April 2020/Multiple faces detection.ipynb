{
 "cells": [
  {
   "cell_type": "code",
   "execution_count": 11,
   "metadata": {},
   "outputs": [],
   "source": [
    "import cv2\n",
    "cap = cv2.VideoCapture(0)\n",
    "face_model = cv2.CascadeClassifier('haarcascade_frontalface_default.xml')\n",
    "while True :\n",
    "    status, photo = cap.read()\n",
    "    \n",
    "    face_cor = face_model.detectMultiScale(photo)\n",
    "    if len(face_cor) == 0:\n",
    "        cv2.imshow('Video Streaming by Jinkxxx', photo)\n",
    "        if cv2.waitKey(10) == 13:\n",
    "            break\n",
    "    else:\n",
    "        i = 0\n",
    "        for (x, y, w, h) in face_cor:\n",
    "            cv2.rectangle(photo, (x, y), (x + w, y + h), (255, 0, 0), 2)\n",
    "            i = i + 1\n",
    "        cv2.imshow('Video Streaming by Jinkxxx', photo)\n",
    "        if cv2.waitKey(10) == 13:\n",
    "            break\n",
    "cv2.destroyAllWindows()\n",
    "cap.release()"
   ]
  }
 ],
 "metadata": {
  "kernelspec": {
   "display_name": "Python 3",
   "language": "python",
   "name": "python3"
  },
  "language_info": {
   "codemirror_mode": {
    "name": "ipython",
    "version": 3
   },
   "file_extension": ".py",
   "mimetype": "text/x-python",
   "name": "python",
   "nbconvert_exporter": "python",
   "pygments_lexer": "ipython3",
   "version": "3.7.4"
  }
 },
 "nbformat": 4,
 "nbformat_minor": 2
}
