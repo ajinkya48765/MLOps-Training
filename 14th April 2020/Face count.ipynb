{
 "cells": [
  {
   "cell_type": "code",
   "execution_count": 23,
   "metadata": {},
   "outputs": [],
   "source": [
    "import cv2\n",
    "face_model = cv2.CascadeClassifier('haarcascade_frontalface_default.xml')\n",
    "photo = cv2.imread('fam22.jpg')\n",
    "#photo = cv2.cvtColor(photo , cv2.COLOR_BGR2GRAY)\n",
    "face_cor = face_model.detectMultiScale(photo)\n",
    "\n",
    "i = 0\n",
    "for (x, y, w, h) in face_cor:\n",
    "    cv2.rectangle(photo, (x, y), (x + w, y + h), (255, 0, 0), 2)\n",
    "    i = i + 1\n",
    "cv2.putText(photo , \"Count is  :  \"+str(len(face_cor)) , (100, 100) ,cv2.FONT_HERSHEY_SIMPLEX, 1 , [0,0,0],2)\n",
    "cv2.imshow('Video Streaming by Jinkxxx', photo)\n",
    "cv2.waitKey(5000)\n",
    "cv2.destroyAllWindows()"
   ]
  }
 ],
 "metadata": {
  "kernelspec": {
   "display_name": "Python 3",
   "language": "python",
   "name": "python3"
  },
  "language_info": {
   "codemirror_mode": {
    "name": "ipython",
    "version": 3
   },
   "file_extension": ".py",
   "mimetype": "text/x-python",
   "name": "python",
   "nbconvert_exporter": "python",
   "pygments_lexer": "ipython3",
   "version": "3.7.4"
  }
 },
 "nbformat": 4,
 "nbformat_minor": 2
}
