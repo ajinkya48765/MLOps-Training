{
 "cells": [
  {
   "cell_type": "code",
   "execution_count": 17,
   "metadata": {},
   "outputs": [],
   "source": [
    "import cv2"
   ]
  },
  {
   "cell_type": "code",
   "execution_count": 18,
   "metadata": {},
   "outputs": [],
   "source": [
    "cap = cv2.VideoCapture(0)\n"
   ]
  },
  {
   "cell_type": "code",
   "execution_count": 19,
   "metadata": {},
   "outputs": [],
   "source": [
    "face_class = cv2.CascadeClassifier('haarcascade_frontalface_default.xml')"
   ]
  },
  {
   "cell_type": "code",
   "execution_count": 20,
   "metadata": {},
   "outputs": [],
   "source": [
    "def face_extractor ( photo ) :\n",
    "    \n",
    "    \n",
    "    gphoto = cv2.cvtColor(photo,cv2.COLOR_BGR2GRAY)\n",
    "    detected = face_class.detectMultiScale(gphoto)\n",
    "    \n",
    "    if detected == ():\n",
    "        return None \n",
    "    else :\n",
    "        ( x , y , w , h ) = detected[0]\n",
    "        cphoto = photo [ y:y+h , x:x+w ]\n",
    "        return cphoto\n",
    "        "
   ]
  },
  {
   "cell_type": "code",
   "execution_count": 21,
   "metadata": {},
   "outputs": [
    {
     "name": "stdout",
     "output_type": "stream",
     "text": [
      "Face not found\n",
      "Face not found\n",
      "Face not found\n",
      "Face not found\n"
     ]
    },
    {
     "name": "stderr",
     "output_type": "stream",
     "text": [
      "C:\\ProgramData\\Anaconda3\\lib\\site-packages\\ipykernel_launcher.py:7: DeprecationWarning: elementwise comparison failed; this will raise an error in the future.\n",
      "  import sys\n"
     ]
    },
    {
     "name": "stdout",
     "output_type": "stream",
     "text": [
      "Face not found\n",
      "Face not found\n",
      "Face not found\n",
      "Face not found\n",
      "Sample Collection Completed\n"
     ]
    }
   ],
   "source": [
    "i=0\n",
    "while True :\n",
    "    \n",
    "    status, photo = cap.read()\n",
    "    \n",
    "    if face_extractor (photo) is not None :\n",
    "        cphoto = face_extractor (photo)\n",
    "        i=int(i)+1\n",
    "        face = cv2.resize( cphoto , (200,200))\n",
    "        face = cv2.cvtColor(face, cv2.COLOR_BGR2GRAY)\n",
    "        \n",
    "        cv2.imwrite(\"C://Users//ajink//Projects//MLOps workspace//MLOps-Training//18th April 2020//Jinkx//jinkx\"+str(i)+\".jpg\" , face)\n",
    "        \n",
    "        cv2.putText(face , str(i) , (100, 100) ,cv2.FONT_HERSHEY_SIMPLEX, 2 , [255,0,0],3)\n",
    "        cv2.imshow(\"Face cropper\",face)\n",
    "        \n",
    "        \n",
    "        i=int(i)+1\n",
    "    else:\n",
    "        print(\"Face not found\")\n",
    "        pass\n",
    "    \n",
    "    if cv2.waitKey(1) == 13 or i == 100: #13 is the Enter Key\n",
    "        break\n",
    "        \n",
    "cap.release()       \n",
    "cv2.destroyAllWindows()\n",
    "\n",
    "print(\"Sample Collection Completed\")"
   ]
  },
  {
   "cell_type": "code",
   "execution_count": null,
   "metadata": {},
   "outputs": [],
   "source": [
    "\n",
    "cv2.imwrite(\"C://Users//ajink//Projects//MLOps workspace//MLOps-Training//18th April 2020//Jinkx//jinkx\"+str(i)+\".jpg\" , gphoto)\n"
   ]
  },
  {
   "cell_type": "code",
   "execution_count": null,
   "metadata": {},
   "outputs": [],
   "source": [
    "cv2.putText(gphoto , str(i) , (100, 100) ,cv2.FONT_HERSHEY_SIMPLEX, 2 , [255,0,0],3)"
   ]
  },
  {
   "cell_type": "code",
   "execution_count": null,
   "metadata": {},
   "outputs": [],
   "source": [
    "cv2.imshow(\"hello\",gphoto)\n",
    "cv2.waitKey(10000)\n",
    "cv2.destroyAllWindows()"
   ]
  },
  {
   "cell_type": "code",
   "execution_count": null,
   "metadata": {},
   "outputs": [],
   "source": []
  },
  {
   "cell_type": "code",
   "execution_count": null,
   "metadata": {},
   "outputs": [],
   "source": [
    "cv2.imshow(\"hello\",gphoto)\n",
    "cv2.waitKey(10000)\n",
    "cv2.destroyAllWindows()"
   ]
  },
  {
   "cell_type": "code",
   "execution_count": null,
   "metadata": {},
   "outputs": [],
   "source": [
    "gphoto.shape"
   ]
  },
  {
   "cell_type": "code",
   "execution_count": null,
   "metadata": {},
   "outputs": [],
   "source": [
    "cphoto = photo [ y:y+h , x:x+w ]"
   ]
  },
  {
   "cell_type": "code",
   "execution_count": null,
   "metadata": {},
   "outputs": [],
   "source": [
    "gphoto = cv2.cvtColor(cphoto,cv2.COLOR_BGR2GRAY)"
   ]
  },
  {
   "cell_type": "code",
   "execution_count": null,
   "metadata": {},
   "outputs": [],
   "source": [
    "detected = face_class.detectMultiScale(photo)\n",
    "    ( x , y , w , h ) = detected[1]\n",
    "    cphoto = photo [ y:y+h , x:x+w ]\n",
    "    cv2.imshow(\"hello\",gphoto)\n",
    "    i=0\n",
    "    cv2.imwrite(\"C://Users//ajink//Projects//MLOps workspace//MLOps-Training//18th April 2020//Jinkx//jinkx\"+str(i)+\".jpg\" , gphoto)\n",
    "    cv2.putText(gphoto , str(i) , (100, 100) ,cv2.FONT_HERSHEY_SIMPLEX, 2 , [255,0,0],3)\n",
    "    if cv2.waitKey(1) == 13 or i==100:\n",
    "        break\n",
    "    i=i+1"
   ]
  }
 ],
 "metadata": {
  "kernelspec": {
   "display_name": "Python 3",
   "language": "python",
   "name": "python3"
  },
  "language_info": {
   "codemirror_mode": {
    "name": "ipython",
    "version": 3
   },
   "file_extension": ".py",
   "mimetype": "text/x-python",
   "name": "python",
   "nbconvert_exporter": "python",
   "pygments_lexer": "ipython3",
   "version": "3.7.4"
  }
 },
 "nbformat": 4,
 "nbformat_minor": 2
}
