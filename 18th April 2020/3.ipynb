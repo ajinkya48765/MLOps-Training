{
 "cells": [
  {
   "cell_type": "code",
   "execution_count": 1,
   "metadata": {},
   "outputs": [],
   "source": [
    "import cv2"
   ]
  },
  {
   "cell_type": "code",
   "execution_count": 2,
   "metadata": {},
   "outputs": [],
   "source": [
    "cap = cv2.VideoCapture(\"http://192.168.43.97:8080/video\")\n"
   ]
  },
  {
   "cell_type": "code",
   "execution_count": 3,
   "metadata": {},
   "outputs": [],
   "source": [
    "face_class = cv2.CascadeClassifier('haarcascade_frontalface_default.xml')"
   ]
  },
  {
   "cell_type": "code",
   "execution_count": 4,
   "metadata": {},
   "outputs": [],
   "source": [
    "def face_extractor ( photo ) :\n",
    "    \n",
    "    \n",
    "    gphoto = cv2.cvtColor(photo,cv2.COLOR_BGR2GRAY)\n",
    "    detected = face_class.detectMultiScale(photo)\n",
    "    \n",
    "    if detected == ():\n",
    "        return None \n",
    "    else :\n",
    "        ( x , y , w , h ) = detected[1]\n",
    "        cphoto = photo [ y:y+h , x:x+w ]\n",
    "        return cphoto\n",
    "        "
   ]
  },
  {
   "cell_type": "code",
   "execution_count": null,
   "metadata": {},
   "outputs": [],
   "source": []
  },
  {
   "cell_type": "code",
   "execution_count": null,
   "metadata": {},
   "outputs": [],
   "source": []
  },
  {
   "cell_type": "code",
   "execution_count": 5,
   "metadata": {},
   "outputs": [
    {
     "name": "stderr",
     "output_type": "stream",
     "text": [
      "C:\\ProgramData\\Anaconda3\\lib\\site-packages\\ipykernel_launcher.py:7: DeprecationWarning: elementwise comparison failed; this will raise an error in the future.\n",
      "  import sys\n"
     ]
    },
    {
     "ename": "ValueError",
     "evalue": "The truth value of an array with more than one element is ambiguous. Use a.any() or a.all()",
     "output_type": "error",
     "traceback": [
      "\u001b[1;31m---------------------------------------------------------------------------\u001b[0m",
      "\u001b[1;31mValueError\u001b[0m                                Traceback (most recent call last)",
      "\u001b[1;32m<ipython-input-5-579e620c7fc1>\u001b[0m in \u001b[0;36m<module>\u001b[1;34m\u001b[0m\n\u001b[0;32m      3\u001b[0m     \u001b[0mstatus\u001b[0m\u001b[1;33m,\u001b[0m \u001b[0mphoto\u001b[0m \u001b[1;33m=\u001b[0m \u001b[0mcap\u001b[0m\u001b[1;33m.\u001b[0m\u001b[0mread\u001b[0m\u001b[1;33m(\u001b[0m\u001b[1;33m)\u001b[0m\u001b[1;33m\u001b[0m\u001b[1;33m\u001b[0m\u001b[0m\n\u001b[0;32m      4\u001b[0m \u001b[1;33m\u001b[0m\u001b[0m\n\u001b[1;32m----> 5\u001b[1;33m     \u001b[1;32mif\u001b[0m \u001b[0mface_extractor\u001b[0m \u001b[1;33m(\u001b[0m\u001b[0mphoto\u001b[0m\u001b[1;33m)\u001b[0m \u001b[1;33m==\u001b[0m \u001b[1;32mNone\u001b[0m \u001b[1;33m:\u001b[0m\u001b[1;33m\u001b[0m\u001b[1;33m\u001b[0m\u001b[0m\n\u001b[0m\u001b[0;32m      6\u001b[0m         \u001b[0mprint\u001b[0m\u001b[1;33m(\u001b[0m\u001b[1;34m\"Face not found\"\u001b[0m\u001b[1;33m)\u001b[0m\u001b[1;33m\u001b[0m\u001b[1;33m\u001b[0m\u001b[0m\n\u001b[0;32m      7\u001b[0m     \u001b[1;32melse\u001b[0m \u001b[1;33m:\u001b[0m\u001b[1;33m\u001b[0m\u001b[1;33m\u001b[0m\u001b[0m\n",
      "\u001b[1;31mValueError\u001b[0m: The truth value of an array with more than one element is ambiguous. Use a.any() or a.all()"
     ]
    }
   ],
   "source": [
    "while True :\n",
    "    \n",
    "    status, photo = cap.read()\n",
    "    i=0\n",
    "    if face_extractor (photo) is not None :\n",
    "        cphoto = face_extractor (photo)\n",
    "        \n",
    "        face = cv2.resize( cphoto , (200,200))\n",
    "        face = cv2.cvtColor(face, cv2.COLOR_BGR2GRAY)\n",
    "        \n",
    "        cv2.imwrite(\"C://Users//ajink//Projects//MLOps workspace//MLOps-Training//18th April 2020//Jinkx//jinkx\"+str(i)+\".jpg\" , gphoto)\n",
    "        \n",
    "        cv2.putText(face , str(i) , (100, 100) ,cv2.FONT_HERSHEY_SIMPLEX, 2 , [255,0,0],3)\n",
    "        cv2.imshow(\"Face cropper\",face)\n",
    "        \n",
    "        if cv2.waitKey(1) == 13 or i==100:\n",
    "            break\n",
    "        i=i+1\n",
    "    else:\n",
    "        print(\"Face not found\")\n",
    "        pass\n",
    "       \n",
    "cv2.destroyAllWindows()"
   ]
  },
  {
   "cell_type": "code",
   "execution_count": null,
   "metadata": {},
   "outputs": [],
   "source": [
    "\n",
    "cv2.imwrite(\"C://Users//ajink//Projects//MLOps workspace//MLOps-Training//18th April 2020//Jinkx//jinkx\"+str(i)+\".jpg\" , gphoto)\n"
   ]
  },
  {
   "cell_type": "code",
   "execution_count": null,
   "metadata": {},
   "outputs": [],
   "source": [
    "cv2.putText(gphoto , str(i) , (100, 100) ,cv2.FONT_HERSHEY_SIMPLEX, 2 , [255,0,0],3)"
   ]
  },
  {
   "cell_type": "code",
   "execution_count": null,
   "metadata": {},
   "outputs": [],
   "source": [
    "cv2.imshow(\"hello\",gphoto)\n",
    "cv2.waitKey(10000)\n",
    "cv2.destroyAllWindows()"
   ]
  },
  {
   "cell_type": "code",
   "execution_count": null,
   "metadata": {},
   "outputs": [],
   "source": []
  },
  {
   "cell_type": "code",
   "execution_count": null,
   "metadata": {},
   "outputs": [],
   "source": [
    "cv2.imshow(\"hello\",gphoto)\n",
    "cv2.waitKey(10000)\n",
    "cv2.destroyAllWindows()"
   ]
  },
  {
   "cell_type": "code",
   "execution_count": null,
   "metadata": {},
   "outputs": [],
   "source": [
    "gphoto.shape"
   ]
  },
  {
   "cell_type": "code",
   "execution_count": null,
   "metadata": {},
   "outputs": [],
   "source": [
    "cphoto = photo [ y:y+h , x:x+w ]"
   ]
  },
  {
   "cell_type": "code",
   "execution_count": null,
   "metadata": {},
   "outputs": [],
   "source": [
    "gphoto = cv2.cvtColor(cphoto,cv2.COLOR_BGR2GRAY)"
   ]
  },
  {
   "cell_type": "code",
   "execution_count": null,
   "metadata": {},
   "outputs": [],
   "source": [
    "detected = face_class.detectMultiScale(photo)\n",
    "    ( x , y , w , h ) = detected[1]\n",
    "    cphoto = photo [ y:y+h , x:x+w ]\n",
    "    cv2.imshow(\"hello\",gphoto)\n",
    "    i=0\n",
    "    cv2.imwrite(\"C://Users//ajink//Projects//MLOps workspace//MLOps-Training//18th April 2020//Jinkx//jinkx\"+str(i)+\".jpg\" , gphoto)\n",
    "    cv2.putText(gphoto , str(i) , (100, 100) ,cv2.FONT_HERSHEY_SIMPLEX, 2 , [255,0,0],3)\n",
    "    if cv2.waitKey(1) == 13 or i==100:\n",
    "        break\n",
    "    i=i+1"
   ]
  }
 ],
 "metadata": {
  "kernelspec": {
   "display_name": "Python 3",
   "language": "python",
   "name": "python3"
  },
  "language_info": {
   "codemirror_mode": {
    "name": "ipython",
    "version": 3
   },
   "file_extension": ".py",
   "mimetype": "text/x-python",
   "name": "python",
   "nbconvert_exporter": "python",
   "pygments_lexer": "ipython3",
   "version": "3.7.4"
  }
 },
 "nbformat": 4,
 "nbformat_minor": 2
}
