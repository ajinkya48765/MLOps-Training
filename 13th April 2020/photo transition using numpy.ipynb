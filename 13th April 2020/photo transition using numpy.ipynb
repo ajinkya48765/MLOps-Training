{
 "cells": [
  {
   "cell_type": "code",
   "execution_count": 17,
   "metadata": {},
   "outputs": [],
   "source": [
    "import cv2"
   ]
  },
  {
   "cell_type": "code",
   "execution_count": 18,
   "metadata": {},
   "outputs": [],
   "source": [
    "photo1 = cv2.imread('img1.jpg')\n",
    "photo2 = cv2.imread('img2.jpg')\n",
    "photo3 = cv2.imread('img3.jpg')\n",
    "photo1 = photo1[ 0:100 , 0:100 ]\n",
    "photo2 = photo2[ 0:100 , 0:100 ]\n",
    "photo3 = photo3[ 0:100 , 0:100 ]\n",
    "photo1 = cv2.resize(photo1,(500,500))\n",
    "photo2 = cv2.resize(photo2,(500,500))\n",
    "photo3 = cv2.resize(photo3,(500,500))\n",
    "b1 ,g1, r1 = cv2.split(photo1)\n",
    "b2 ,g2, r2 = cv2.split(photo2)\n",
    "b3 ,g3, r3 = cv2.split(photo3)"
   ]
  },
  {
   "cell_type": "code",
   "execution_count": 23,
   "metadata": {},
   "outputs": [],
   "source": [
    "while True :    \n",
    "    cv2.imshow(\"head\",photo1)\n",
    "    if cv2.waitKey(500)==13:\n",
    "        break\n",
    "    photo1[:,:,0]=b3\n",
    "    cv2.imshow(\"head\",photo1)\n",
    "    if cv2.waitKey(500)==13:\n",
    "        break\n",
    "    photo1[:,:,1]=g3\n",
    "    cv2.imshow(\"head\",photo1)\n",
    "    if cv2.waitKey(500)==13:\n",
    "        break\n",
    "    photo1[:,:,2]=r3\n",
    "    cv2.imshow(\"head\",photo1)\n",
    "    if cv2.waitKey(500)==13:\n",
    "        break\n",
    "    photo1[:,:,0]=b2\n",
    "    cv2.imshow(\"head\",photo1)\n",
    "    if cv2.waitKey(500)==13:\n",
    "        break\n",
    "    photo1[:,:,1]=g2\n",
    "    cv2.imshow(\"head\",photo1)\n",
    "    if cv2.waitKey(500)==13:\n",
    "        break\n",
    "    photo1[:,:,2]=r2\n",
    "    cv2.imshow(\"head\",photo1)\n",
    "    if cv2.waitKey(500)==13:\n",
    "        break\n",
    "cv2.destroyAllWindows()"
   ]
  },
  {
   "cell_type": "code",
   "execution_count": null,
   "metadata": {},
   "outputs": [],
   "source": []
  }
 ],
 "metadata": {
  "kernelspec": {
   "display_name": "Python 3",
   "language": "python",
   "name": "python3"
  },
  "language_info": {
   "codemirror_mode": {
    "name": "ipython",
    "version": 3
   },
   "file_extension": ".py",
   "mimetype": "text/x-python",
   "name": "python",
   "nbconvert_exporter": "python",
   "pygments_lexer": "ipython3",
   "version": "3.7.4"
  }
 },
 "nbformat": 4,
 "nbformat_minor": 2
}
