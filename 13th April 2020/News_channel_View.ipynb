{
 "cells": [
  {
   "cell_type": "markdown",
   "metadata": {},
   "source": [
    "# News_channel_View"
   ]
  },
  {
   "cell_type": "code",
   "execution_count": 6,
   "metadata": {},
   "outputs": [],
   "source": [
    "import cv2\n",
    "cap = cv2.VideoCapture(0)\n",
    "cap2 = cv2.VideoCapture(\"https://192.168.43.97:8080/video\")\n",
    "while True :\n",
    "    status, photox = cap.read()\n",
    "    photo2 = photox[0:480 , 0:640]\n",
    "    status2, photo = cap2.read()\n",
    "    cphoto = photo[0:400 , 130:530]\n",
    "    cphoto2 = photo2[ 0:1000 , 0:1000] \n",
    "    rphoto = cv2.resize(cphoto,(200,200))\n",
    "    rphoto2 = cv2.resize(photo2, (200,200))\n",
    "    photo[280:480, 0:200] = rphoto\n",
    "    photo[280:480, 440:640] = rphoto2\n",
    "   \n",
    "    photo[275:480, 200:205] = [0,255,0]  #R\n",
    "    photo[275:280, 0:205] = [0,255,0]    #T\n",
    "    photo[275:480, 0:5] = [0,255,0]      #L\n",
    "    photo[475:480, 0:205] = [0,255,0] #B\n",
    "    \n",
    "    photo[275:480, 435:440] = [0,255,200]\n",
    "    photo[275:280, 435:640] = [0,255,200]\n",
    "    photo[275:480, 635:640] = [0,255,200]\n",
    "    photo[475:480, 435:640] = [0,255,200]\n",
    "\n",
    "    \n",
    "    cv2.imshow('News Channel View', photo)\n",
    "    if cv2.waitKey(1)==13:\n",
    "        break\n",
    "cv2.destroyAllWindows()\n",
    "cap.release()\n",
    "cap2.release()"
   ]
  },
  {
   "cell_type": "code",
   "execution_count": 38,
   "metadata": {},
   "outputs": [],
   "source": []
  },
  {
   "cell_type": "code",
   "execution_count": 39,
   "metadata": {},
   "outputs": [],
   "source": []
  }
 ],
 "metadata": {
  "kernelspec": {
   "display_name": "Python 3",
   "language": "python",
   "name": "python3"
  },
  "language_info": {
   "codemirror_mode": {
    "name": "ipython",
    "version": 3
   },
   "file_extension": ".py",
   "mimetype": "text/x-python",
   "name": "python",
   "nbconvert_exporter": "python",
   "pygments_lexer": "ipython3",
   "version": "3.7.4"
  }
 },
 "nbformat": 4,
 "nbformat_minor": 2
}
